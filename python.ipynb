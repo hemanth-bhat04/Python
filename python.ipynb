{
 "cells": [
  {
   "cell_type": "code",
   "execution_count": 1,
   "metadata": {},
   "outputs": [
    {
     "name": "stdout",
     "output_type": "stream",
     "text": [
      "Result: {'int': 2, 'str': 2, 'bool': 1}\n",
      "Execution time: 0.0\n"
     ]
    }
   ],
   "source": [
    "import time\n",
    "\n",
    "def count_data_types(sample_list):\n",
    "    type_count = {}\n",
    "    for item in sample_list:\n",
    "        item_type = type(item).__name__  \n",
    "        if item_type in type_count:\n",
    "            type_count[item_type] += 1\n",
    "        else:\n",
    "            type_count[item_type] = 1\n",
    "    return type_count\n",
    "\n",
    "\n",
    "sample_list = [1, 2, \"A\", \"3\", True]\n",
    "start_time = time.time()\n",
    "result = count_data_types(sample_list)\n",
    "end_time = time.time()\n",
    "print(\"Result:\", result)\n",
    "print(\"Execution time:\", end_time - start_time)\n",
    "\n",
    "\n"
   ]
  },
  {
   "cell_type": "code",
   "execution_count": 2,
   "metadata": {},
   "outputs": [
    {
     "name": "stdout",
     "output_type": "stream",
     "text": [
      "True\n"
     ]
    }
   ],
   "source": [
    "from collections import Counter\n",
    "\n",
    "def is_anagram(s1,s2):\n",
    "    return Counter(s1) == Counter(s2)\n",
    "s1 = \"listen\"\n",
    "s2 = \"silent\"\n",
    "print(is_anagram(s1,s2))  "
   ]
  },
  {
   "cell_type": "code",
   "execution_count": 3,
   "metadata": {},
   "outputs": [
    {
     "name": "stdout",
     "output_type": "stream",
     "text": [
      "Demonstrating 'break':\n",
      "0\n",
      "1\n",
      "2\n",
      "3\n",
      "4\n",
      "Breaking the loop at i = 5\n",
      "\n",
      "Demonstrating 'continue':\n",
      "0\n",
      "1\n",
      "2\n",
      "3\n",
      "4\n",
      "Skipping iteration at i = 5\n",
      "6\n",
      "7\n",
      "8\n",
      "9\n",
      "\n",
      "Demonstrating 'pass':\n",
      "0\n",
      "1\n",
      "2\n",
      "3\n",
      "4\n",
      "Doing nothing at i = 5\n",
      "6\n",
      "7\n",
      "8\n",
      "9\n"
     ]
    }
   ],
   "source": [
    "def demonstrate_break_continue_pass():\n",
    "    print(\"Demonstrating 'break':\")\n",
    "   \n",
    "    for i in range(10):\n",
    "        if i == 5:\n",
    "            print(\"Breaking the loop at i =\", i)\n",
    "            break  \n",
    "        print(i)\n",
    "\n",
    "    print(\"\\nDemonstrating 'continue':\")\n",
    "  \n",
    "    for i in range(10):\n",
    "        if i == 5:\n",
    "            print(\"Skipping iteration at i =\", i)\n",
    "            continue  \n",
    "        print(i)\n",
    "\n",
    "    print(\"\\nDemonstrating 'pass':\")\n",
    "    \n",
    "    for i in range(10):\n",
    "        if i == 5:\n",
    "            print(\"Doing nothing at i =\", i)\n",
    "            pass  \n",
    "        else:\n",
    "            print(i)\n",
    "\n",
    "\n",
    "demonstrate_break_continue_pass()\n"
   ]
  },
  {
   "cell_type": "code",
   "execution_count": 4,
   "metadata": {},
   "outputs": [
    {
     "name": "stdout",
     "output_type": "stream",
     "text": [
      "Initial list: ['bread', 'chips', 'pasta', 'fruits']\n",
      "After changing the first item: ['biscuits', 'chips', 'pasta', 'fruits']\n",
      "After appending 'vegetables': ['biscuits', 'chips', 'pasta', 'fruits', 'vegetables']\n",
      "After inserting 'tomato' at index 3: ['biscuits', 'chips', 'pasta', 'tomato', 'fruits', 'vegetables']\n",
      "After removing 'chips': ['biscuits', 'pasta', 'tomato', 'fruits', 'vegetables']\n",
      "After popping index 2 (removed item): tomato\n",
      "List after popping: ['biscuits', 'pasta', 'fruits', 'vegetables']\n",
      "Index of 'pasta': 1\n",
      "After sorting the list: ['biscuits', 'fruits', 'pasta', 'vegetables']\n",
      "After reversing the list: ['vegetables', 'pasta', 'fruits', 'biscuits']\n",
      "Number of 'biscuits' in the list: 1\n",
      "Copy of the list: ['vegetables', 'pasta', 'fruits', 'biscuits']\n",
      "List after clearing all items: []\n",
      "After extending the list: ['vegetables', 'pasta', 'fruits', 'biscuits', 'milk', 'cheese', 'butter']\n",
      "[0, 4, 16, 36, 64]\n"
     ]
    }
   ],
   "source": [
    "#Lists and its methods\n",
    "\n",
    "# Initial list of items\n",
    "items = [\"bread\", \"chips\", \"pasta\", \"fruits\"]\n",
    "print(\"Initial list:\", items)\n",
    "\n",
    "#indexing\n",
    "items[0] = \"biscuits\"\n",
    "print(\"After changing the first item:\", items)\n",
    "\n",
    "#append\n",
    "items.append(\"vegetables\")\n",
    "print(\"After appending 'vegetables':\", items)\n",
    "\n",
    "# Insert \n",
    "items.insert(3, \"tomato\")\n",
    "print(\"After inserting 'tomato' at index 3:\", items)\n",
    "\n",
    "# Remove \n",
    "items.remove(\"chips\")  \n",
    "print(\"After removing 'chips':\", items)\n",
    "\n",
    "# Remove an item by index \n",
    "removed_item = items.pop(2)  \n",
    "print(\"After popping index 2 (removed item):\", removed_item)\n",
    "print(\"List after popping:\", items)\n",
    "\n",
    "# Find the index of a specific item in the list\n",
    "index_of_pasta = items.index(\"pasta\") \n",
    "print(\"Index of 'pasta':\", index_of_pasta)\n",
    "\n",
    "# Sort \n",
    "items.sort()  \n",
    "print(\"After sorting the list:\", items)\n",
    "\n",
    "# Reverse \n",
    "items.reverse()  \n",
    "print(\"After reversing the list:\", items)\n",
    "\n",
    "# Count \n",
    "count_of_biscuits = items.count(\"biscuits\") \n",
    "print(\"Number of 'biscuits' in the list:\", count_of_biscuits)\n",
    "\n",
    "# Copy \n",
    "new_items = items.copy()  \n",
    "print(\"Copy of the list:\", new_items)\n",
    "\n",
    "# Clear \n",
    "items.clear()  \n",
    "print(\"List after clearing all items:\", items)\n",
    "\n",
    "# Add multiple items \n",
    "new_items.extend([\"milk\", \"cheese\", \"butter\"])  \n",
    "print(\"After extending the list:\", new_items)\n",
    "\n",
    "#list comprehension\n",
    "squares = [i**2 for i in range(10) if i % 2 == 0]\n",
    "print(squares)\n",
    "\n",
    "\n",
    "\n",
    "\n"
   ]
  },
  {
   "cell_type": "code",
   "execution_count": null,
   "metadata": {},
   "outputs": [
    {
     "name": "stdout",
     "output_type": "stream",
     "text": [
      "my name is:  Hemanth\n",
      "my age currently is:  22\n",
      "dict_values(['Hemanth', 'bhat', 22])\n",
      "dict_keys(['fname', 'lname', 'age'])\n",
      "fname Hemanth\n",
      "lname bhat\n",
      "age 22\n"
     ]
    }
   ],
   "source": [
    "hemdict = {\"fname\":\"Hemanth\",\"lname\":\"bhat\",\"age\":\"21\"}\n",
    "\n",
    "print(\"my name is: \",hemdict[\"fname\"])\n",
    "\n",
    "hemdict[\"age\"] = 22\n",
    "\n",
    "print(\"my age currently is: \",hemdict[\"age\"])\n",
    "\n",
    "\n",
    "print(hemdict.values())\n",
    "print(hemdict.keys())\n",
    "\n",
    "for k,v in hemdict.items():\n",
    "    print(k,v)\n",
    "    \n",
    "\n",
    "    \n"
   ]
  },
  {
   "cell_type": "code",
   "execution_count": 10,
   "metadata": {},
   "outputs": [
    {
     "name": "stdout",
     "output_type": "stream",
     "text": [
      "hemanth bhat\n"
     ]
    }
   ],
   "source": [
    "#assignment\n",
    "customers = []\n",
    "\n",
    "while True:\n",
    "    createEntry = input(\"Enter Customer (Yes/No) :\")\n",
    "    createEntry = createEntry[0].lower()\n",
    "    \n",
    "    if createEntry == \"n\":\n",
    "        break\n",
    "    else:\n",
    "        fname,lname = input(\"Enter customer name: \").split()\n",
    "        \n",
    "        customers.append({'fname':fname,'lname':lname})\n",
    "\n",
    "for cust in customers:\n",
    "    print(f\"{cust['fname']} {cust['lname']}\")\n"
   ]
  },
  {
   "cell_type": "code",
   "execution_count": null,
   "metadata": {},
   "outputs": [
    {
     "name": "stdout",
     "output_type": "stream",
     "text": [
      "120\n"
     ]
    }
   ],
   "source": [
    "#recursive functions\n",
    "# 1. Factorial of a number\n",
    "\n",
    "def factorial(n):\n",
    "    if n == 0 or n==1:\n",
    "        return 1\n",
    "    else:\n",
    "        return n * factorial(n-1)\n",
    "print(factorial(5))\n",
    "    "
   ]
  },
  {
   "cell_type": "code",
   "execution_count": 13,
   "metadata": {},
   "outputs": [
    {
     "name": "stdout",
     "output_type": "stream",
     "text": [
      "55\n",
      "5\n"
     ]
    }
   ],
   "source": [
    "#Fibonacci \n",
    "\n",
    "def fibonacci(n):\n",
    "    if n ==0:\n",
    "        return 0\n",
    "    elif n==1:\n",
    "        return 1\n",
    "    else:\n",
    "        return fibonacci(n-1) + fibonacci(n-2)\n",
    "print(fibonacci(10)) \n",
    "print(fibonacci(5))\n",
    "            "
   ]
  },
  {
   "cell_type": "code",
   "execution_count": 15,
   "metadata": {},
   "outputs": [
    {
     "name": "stdout",
     "output_type": "stream",
     "text": [
      "Starting program\n",
      "Error: Division by zero is not allowed\n",
      "This will always run\n",
      "Testing a program\n"
     ]
    }
   ],
   "source": [
    "#Exception Handling\n",
    "def some_func(n):\n",
    "    try:\n",
    "        x = 5\n",
    "        y = x/n\n",
    "        print(y)\n",
    "    except ZeroDivisionError:\n",
    "        print(\"Error: Division by zero is not allowed\")\n",
    "    except Exception as e:\n",
    "        print(\"Something went wrong\")\n",
    "    finally:\n",
    "        print(\"This will always run\")\n",
    "print(\"Starting program\")\n",
    "some_func(0)\n",
    "print(\"Testing a program\")\n",
    "    "
   ]
  },
  {
   "cell_type": "code",
   "execution_count": null,
   "metadata": {},
   "outputs": [
    {
     "name": "stdout",
     "output_type": "stream",
     "text": [
      "1. What do you call a pony with a cough?\n",
      "\n",
      "10\n",
      "\n",
      "\n",
      "1\n",
      "A little horse.\n",
      "\n",
      "3\n",
      "\n",
      "\n",
      "1\n",
      "2. What did one hat say to the other?\n",
      "\n",
      "9\n",
      "\n",
      "\n",
      "1\n",
      "You wait here. Iâ€™ll go on a head.\n",
      "\n",
      "8\n",
      "\n",
      "\n",
      "1\n",
      "3. What do you call a magic dog?\n",
      "\n",
      "8\n",
      "\n",
      "\n",
      "1\n",
      "A labracadabrador.\n",
      "2\n"
     ]
    }
   ],
   "source": [
    "#Reading and writing with txt files\n",
    "\n",
    "f = open(\"C:\\\\Users\\\\Admin\\\\Python\\\\funny.txt\",\"r\")\n",
    "f_out = open(\"C:\\\\Users\\\\Admin\\\\Python\\\\funny_wc.txt\",\"w\")\n",
    "for line in f:\n",
    "    tokens = line.split(' ')\n",
    "    f_out.write(line + \"wordcount: \"+str(len(tokens)))\n",
    "    print(line)\n",
    "    print(len(tokens))\n",
    "f.close()\n",
    "f_out.close()\n",
    "\n",
    "\n"
   ]
  },
  {
   "cell_type": "code",
   "execution_count": 26,
   "metadata": {},
   "outputs": [
    {
     "name": "stdout",
     "output_type": "stream",
     "text": [
      "Keys in first_dict but not in second_dict: two, one\n",
      "Keys in second_dict but not in first_dict: four\n"
     ]
    }
   ],
   "source": [
    "def compare_dict_keys(first_dict, second_dict):\n",
    "    \n",
    "    unique_to_first = first_dict.keys() - second_dict.keys()\n",
    "\n",
    "    \n",
    "    unique_to_second = second_dict.keys() - first_dict.keys()\n",
    "\n",
    "    return unique_to_first, unique_to_second\n",
    "\n",
    "\n",
    "first_dict = {\"one\": 1, \"two\": 2, \"three\": 3}\n",
    "second_dict = {\"three\": 3, \"four\": 4}\n",
    "\n",
    "\n",
    "unique_first, unique_second = compare_dict_keys(first_dict, second_dict)\n",
    "\n",
    "\n",
    "print(f\"Keys in first_dict but not in second_dict: {', '.join(unique_first)}\")\n",
    "print(f\"Keys in second_dict but not in first_dict: {', '.join(unique_second)}\")\n"
   ]
  },
  {
   "cell_type": "code",
   "execution_count": 27,
   "metadata": {},
   "outputs": [
    {
     "name": "stdout",
     "output_type": "stream",
     "text": [
      "ax\n",
      "by\n",
      "cz\n"
     ]
    }
   ],
   "source": [
    "def concatenate_tuples(first_tup, second_tup):\n",
    "    \n",
    "    if len(first_tup) != len(second_tup):\n",
    "        raise ValueError(\"Both tuples must have the same length.\")\n",
    "    \n",
    "    for first, second in zip(first_tup, second_tup):\n",
    "        \n",
    "        if not isinstance(first, str) or not isinstance(second, str):\n",
    "            raise TypeError(\"Both elements must be strings.\")\n",
    "        \n",
    "        \n",
    "        print(first + second)\n",
    "\n",
    "\n",
    "first_tup = (\"a\", \"b\", \"c\")\n",
    "second_tup = (\"x\", \"y\", \"z\")\n",
    "\n",
    "\n",
    "concatenate_tuples(first_tup, second_tup)\n"
   ]
  }
 ],
 "metadata": {
  "kernelspec": {
   "display_name": "Python 3",
   "language": "python",
   "name": "python3"
  },
  "language_info": {
   "codemirror_mode": {
    "name": "ipython",
    "version": 3
   },
   "file_extension": ".py",
   "mimetype": "text/x-python",
   "name": "python",
   "nbconvert_exporter": "python",
   "pygments_lexer": "ipython3",
   "version": "3.11.5"
  }
 },
 "nbformat": 4,
 "nbformat_minor": 2
}
