{
 "cells": [
  {
   "cell_type": "code",
   "execution_count": null,
   "metadata": {},
   "outputs": [
    {
     "data": {
      "text/plain": [
       "Result: {'int': 2, 'str': 2, 'bool': 1}\n",
       "Execution time: 0.0\n"
      ]
     },
     "metadata": {},
     "output_type": "display_data"
    }
   ],
   "source": [
    "import time\n",
    "\n",
    "def count_data_types(sample_list):\n",
    "    type_count = {}\n",
    "    for item in sample_list:\n",
    "        item_type = type(item).__name__  \n",
    "        if item_type in type_count:\n",
    "            type_count[item_type] += 1\n",
    "        else:\n",
    "            type_count[item_type] = 1\n",
    "    return type_count\n",
    "\n",
    "\n",
    "sample_list = [1, 2, \"A\", \"3\", True]\n",
    "start_time = time.time()\n",
    "result = count_data_types(sample_list)\n",
    "end_time = time.time()\n",
    "print(\"Result:\", result)\n",
    "print(\"Execution time:\", end_time - start_time)\n",
    "\n",
    "\n"
   ]
  },
  {
   "cell_type": "code",
   "execution_count": null,
   "metadata": {},
   "outputs": [
    {
     "data": {
      "text/plain": [
       "True\n"
      ]
     },
     "metadata": {},
     "output_type": "display_data"
    }
   ],
   "source": [
    "from collections import Counter\n",
    "\n",
    "def is_anagram(s1,s2):\n",
    "    return Counter(s1) == Counter(s2)\n",
    "s1 = \"listen\"\n",
    "s2 = \"silent\"\n",
    "print(is_anagram(s1,s2))  "
   ]
  },
  {
   "cell_type": "code",
   "execution_count": null,
   "metadata": {},
   "outputs": [
    {
     "data": {
      "text/plain": [
       "Demonstrating 'break':\n",
       "0\n",
       "1\n",
       "2\n",
       "3\n",
       "4\n",
       "Breaking the loop at i = 5\n",
       "\n",
       "Demonstrating 'continue':\n",
       "0\n",
       "1\n",
       "2\n",
       "3\n",
       "4\n",
       "Skipping iteration at i = 5\n",
       "6\n",
       "7\n",
       "8\n",
       "9\n",
       "\n",
       "Demonstrating 'pass':\n",
       "0\n",
       "1\n",
       "2\n",
       "3\n",
       "4\n",
       "Doing nothing at i = 5\n",
       "6\n",
       "7\n",
       "8\n",
       "9\n"
      ]
     },
     "metadata": {},
     "output_type": "display_data"
    }
   ],
   "source": [
    "def demonstrate_break_continue_pass():\n",
    "    print(\"Demonstrating 'break':\")\n",
    "   \n",
    "    for i in range(10):\n",
    "        if i == 5:\n",
    "            print(\"Breaking the loop at i =\", i)\n",
    "            break  \n",
    "        print(i)\n",
    "\n",
    "    print(\"\\nDemonstrating 'continue':\")\n",
    "  \n",
    "    for i in range(10):\n",
    "        if i == 5:\n",
    "            print(\"Skipping iteration at i =\", i)\n",
    "            continue  \n",
    "        print(i)\n",
    "\n",
    "    print(\"\\nDemonstrating 'pass':\")\n",
    "    \n",
    "    for i in range(10):\n",
    "        if i == 5:\n",
    "            print(\"Doing nothing at i =\", i)\n",
    "            pass  \n",
    "        else:\n",
    "            print(i)\n",
    "\n",
    "\n",
    "demonstrate_break_continue_pass()\n"
   ]
  },
  {
   "cell_type": "code",
   "execution_count": null,
   "metadata": {},
   "outputs": [
    {
     "data": {
      "text/plain": [
       "Initial list: ['bread', 'chips', 'pasta', 'fruits']\n",
       "After changing the first item: ['biscuits', 'chips', 'pasta', 'fruits']\n",
       "After appending 'vegetables': ['biscuits', 'chips', 'pasta', 'fruits', 'vegetables']\n",
       "After inserting 'tomato' at index 3: ['biscuits', 'chips', 'pasta', 'tomato', 'fruits', 'vegetables']\n",
       "After removing 'chips': ['biscuits', 'pasta', 'tomato', 'fruits', 'vegetables']\n",
       "After popping index 2 (removed item): tomato\n",
       "List after popping: ['biscuits', 'pasta', 'fruits', 'vegetables']\n",
       "Index of 'pasta': 1\n",
       "After sorting the list: ['biscuits', 'fruits', 'pasta', 'vegetables']\n",
       "After reversing the list: ['vegetables', 'pasta', 'fruits', 'biscuits']\n",
       "Number of 'biscuits' in the list: 1\n",
       "Copy of the list: ['vegetables', 'pasta', 'fruits', 'biscuits']\n",
       "List after clearing all items: []\n",
       "After extending the list: ['vegetables', 'pasta', 'fruits', 'biscuits', 'milk', 'cheese', 'butter']\n",
       "[0, 4, 16, 36, 64]\n"
      ]
     },
     "metadata": {},
     "output_type": "display_data"
    }
   ],
   "source": [
    "#Lists and its methods\n",
    "\n",
    "# Initial list of items\n",
    "items = [\"bread\", \"chips\", \"pasta\", \"fruits\"]\n",
    "print(\"Initial list:\", items)\n",
    "\n",
    "#indexing\n",
    "items[0] = \"biscuits\"\n",
    "print(\"After changing the first item:\", items)\n",
    "\n",
    "#append\n",
    "items.append(\"vegetables\")\n",
    "print(\"After appending 'vegetables':\", items)\n",
    "\n",
    "# Insert \n",
    "items.insert(3, \"tomato\")\n",
    "print(\"After inserting 'tomato' at index 3:\", items)\n",
    "\n",
    "# Remove \n",
    "items.remove(\"chips\")  \n",
    "print(\"After removing 'chips':\", items)\n",
    "\n",
    "# Remove an item by index \n",
    "removed_item = items.pop(2)  \n",
    "print(\"After popping index 2 (removed item):\", removed_item)\n",
    "print(\"List after popping:\", items)\n",
    "\n",
    "# Find the index of a specific item in the list\n",
    "index_of_pasta = items.index(\"pasta\") \n",
    "print(\"Index of 'pasta':\", index_of_pasta)\n",
    "\n",
    "# Sort \n",
    "items.sort()  \n",
    "print(\"After sorting the list:\", items)\n",
    "\n",
    "# Reverse \n",
    "items.reverse()  \n",
    "print(\"After reversing the list:\", items)\n",
    "\n",
    "# Count \n",
    "count_of_biscuits = items.count(\"biscuits\") \n",
    "print(\"Number of 'biscuits' in the list:\", count_of_biscuits)\n",
    "\n",
    "# Copy \n",
    "new_items = items.copy()  \n",
    "print(\"Copy of the list:\", new_items)\n",
    "\n",
    "# Clear \n",
    "items.clear()  \n",
    "print(\"List after clearing all items:\", items)\n",
    "\n",
    "# Add multiple items \n",
    "new_items.extend([\"milk\", \"cheese\", \"butter\"])  \n",
    "print(\"After extending the list:\", new_items)\n",
    "\n",
    "#list comprehension\n",
    "squares = [i**2 for i in range(10) if i % 2 == 0]\n",
    "print(squares)\n",
    "\n",
    "\n",
    "\n",
    "\n"
   ]
  },
  {
   "cell_type": "code",
   "execution_count": null,
   "metadata": {},
   "outputs": [],
   "source": []
  }
 ],
 "metadata": {
  "language_info": {
   "name": "python"
  }
 },
 "nbformat": 4,
 "nbformat_minor": 2
}
